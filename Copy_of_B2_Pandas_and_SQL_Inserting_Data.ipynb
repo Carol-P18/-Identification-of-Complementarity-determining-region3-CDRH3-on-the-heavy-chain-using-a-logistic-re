{
  "cells": [
    {
      "cell_type": "markdown",
      "metadata": {
        "id": "view-in-github",
        "colab_type": "text"
      },
      "source": [
        "<a href=\"https://colab.research.google.com/github/Carol-P18/-Identification-of-Complementarity-determining-region3-CDRH3-on-the-heavy-chain-using-a-logistic-re/blob/main/Copy_of_B2_Pandas_and_SQL_Inserting_Data.ipynb\" target=\"_parent\"><img src=\"https://colab.research.google.com/assets/colab-badge.svg\" alt=\"Open In Colab\"/></a>"
      ]
    },
    {
      "cell_type": "markdown",
      "metadata": {
        "id": "LY3jQ0zMkInh"
      },
      "source": [
        "# A Minimal Example of Loading a Dataset to a Database"
      ]
    },
    {
      "cell_type": "code",
      "source": [
        "!pip3 install -U -q PyMySQL sqlalchemy"
      ],
      "metadata": {
        "id": "wnFsH02TktVl",
        "colab": {
          "base_uri": "https://localhost:8080/"
        },
        "outputId": "a3dd8480-fdb2-493f-e5e6-8a2f57cb0782"
      },
      "execution_count": 1,
      "outputs": [
        {
          "output_type": "stream",
          "name": "stdout",
          "text": [
            "\u001b[?25l     \u001b[90m━━━━━━━━━━━━━━━━━━━━━━━━━━━━━━━━━━━━━━━━\u001b[0m \u001b[32m0.0/45.0 kB\u001b[0m \u001b[31m?\u001b[0m eta \u001b[36m-:--:--\u001b[0m\r\u001b[2K     \u001b[90m━━━━━━━━━━━━━━━━━━━━━━━━━━━━━━━━━━━━━━━━\u001b[0m \u001b[32m45.0/45.0 kB\u001b[0m \u001b[31m1.8 MB/s\u001b[0m eta \u001b[36m0:00:00\u001b[0m\n",
            "\u001b[?25h"
          ]
        }
      ]
    },
    {
      "cell_type": "code",
      "execution_count": 2,
      "metadata": {
        "id": "Cv-hqc0kkInq"
      },
      "outputs": [],
      "source": [
        "import pandas as pd"
      ]
    },
    {
      "cell_type": "code",
      "execution_count": 3,
      "metadata": {
        "id": "SFprbS3RkInv"
      },
      "outputs": [],
      "source": [
        "from sqlalchemy import create_engine"
      ]
    },
    {
      "cell_type": "markdown",
      "metadata": {
        "id": "mCeIJwsNkInx"
      },
      "source": [
        "## Downloading Data and Putting in a Dataframe"
      ]
    },
    {
      "cell_type": "code",
      "source": [
        "!curl 'https://data.cityofnewyork.us/api/views/43nn-pn8j/rows.csv?accessType=DOWNLOAD' -o restaurants.csv"
      ],
      "metadata": {
        "id": "M1zK8hb7kbvS",
        "colab": {
          "base_uri": "https://localhost:8080/"
        },
        "outputId": "e214c6d4-88f9-488e-86c7-4cb16f017b06"
      },
      "execution_count": 4,
      "outputs": [
        {
          "output_type": "stream",
          "name": "stdout",
          "text": [
            "  % Total    % Received % Xferd  Average Speed   Time    Time     Time  Current\n",
            "                                 Dload  Upload   Total   Spent    Left  Speed\n",
            "100 98.5M    0 98.5M    0     0  6110k      0 --:--:--  0:00:16 --:--:-- 6732k\n"
          ]
        }
      ]
    },
    {
      "cell_type": "code",
      "execution_count": 5,
      "metadata": {
        "id": "yr611YQJkInz"
      },
      "outputs": [],
      "source": [
        "# Read the CSV file\n",
        "df = pd.read_csv('restaurants.csv')"
      ]
    },
    {
      "cell_type": "code",
      "source": [
        "# Adding underscores in all column names\n",
        "cols = df.columns\n",
        "cols = cols.map(lambda x: x.replace(' ', '_').upper())\n",
        "df.columns = cols"
      ],
      "metadata": {
        "id": "D3BEnpDwmpvv"
      },
      "execution_count": 6,
      "outputs": []
    },
    {
      "cell_type": "code",
      "source": [
        "cols"
      ],
      "metadata": {
        "id": "70nAdQbvK9b2",
        "colab": {
          "base_uri": "https://localhost:8080/"
        },
        "outputId": "31b64627-b1c1-4ed6-fb8f-6a66d28c7a95"
      },
      "execution_count": 7,
      "outputs": [
        {
          "output_type": "execute_result",
          "data": {
            "text/plain": [
              "Index(['CAMIS', 'DBA', 'BORO', 'BUILDING', 'STREET', 'ZIPCODE', 'PHONE',\n",
              "       'CUISINE_DESCRIPTION', 'INSPECTION_DATE', 'ACTION', 'VIOLATION_CODE',\n",
              "       'VIOLATION_DESCRIPTION', 'CRITICAL_FLAG', 'SCORE', 'GRADE',\n",
              "       'GRADE_DATE', 'RECORD_DATE', 'INSPECTION_TYPE', 'LATITUDE', 'LONGITUDE',\n",
              "       'COMMUNITY_BOARD', 'COUNCIL_DISTRICT', 'CENSUS_TRACT', 'BIN', 'BBL',\n",
              "       'NTA', 'LOCATION_POINT1'],\n",
              "      dtype='object')"
            ]
          },
          "metadata": {},
          "execution_count": 7
        }
      ]
    },
    {
      "cell_type": "code",
      "execution_count": 27,
      "metadata": {
        "id": "Q5wGqcEUkIn0"
      },
      "outputs": [],
      "source": [
        "# Some bookkeeping regarding datatypes\n",
        "df[\"INSPECTION_DATE\"] = pd.to_datetime(df[\"INSPECTION_DATE\"], format=\"%m/%d/%Y\")\n",
        "df[\"SCORE\"] = pd.to_numeric(df[\"SCORE\"])\n",
        "\n",
        "# Delete useless columns\n",
        "df = df.drop(['GRADE_DATE', 'RECORD_DATE', 'LOCATION_POINT1'], axis='columns')"
      ]
    },
    {
      "cell_type": "markdown",
      "source": [
        "## Create MySQL Connection"
      ],
      "metadata": {
        "id": "9QqKfQZ2ky4r"
      }
    },
    {
      "cell_type": "code",
      "source": [
        "import os\n",
        "from sqlalchemy import create_engine, text\n",
        "\n",
        "# Connect to the MySQL, and use the \"public\" database\n",
        "conn_string = 'mysql+pymysql://{user}:{password}@{host}:{port}/{db}?charset=utf8'.format(\n",
        "    user     = 'student',\n",
        "    password = 'dwdstudent2015',\n",
        "    host     = 'db.ipeirotis.org',\n",
        "    port     = 3306,\n",
        "    encoding = 'utf-8',\n",
        "    db = 'public' #this is a databsae that is writable by a student account so you can insert data into it\n",
        ")\n",
        "engine = create_engine(conn_string)"
      ],
      "metadata": {
        "id": "EbklRLuakklS"
      },
      "execution_count": 15,
      "outputs": []
    },
    {
      "cell_type": "markdown",
      "source": [
        "## Create the table for storing the data\n",
        "\n",
        "Although we can let Pandas create the table automatically, the choice of data types of not always great. It is better to manually define the data types for the database."
      ],
      "metadata": {
        "id": "1V74LuxWqz-5"
      }
    },
    {
      "cell_type": "code",
      "source": [
        "# Report the maximum string lengths for\n",
        "# the textual attributes. Useful when creating\n",
        "# a table in SQL.\n",
        "for c in df.columns.values:\n",
        "  if df.dtypes[c] == 'object':\n",
        "    print(c, df[c].str.len().max())\n"
      ],
      "metadata": {
        "id": "Qf0Tld8TrGVo",
        "colab": {
          "base_uri": "https://localhost:8080/"
        },
        "outputId": "3ba8c165-9d60-45f8-d7e7-4f5c2c7ed993"
      },
      "execution_count": 16,
      "outputs": [
        {
          "output_type": "stream",
          "name": "stdout",
          "text": [
            "DBA 100.0\n",
            "BORO 13\n",
            "BUILDING 10.0\n",
            "STREET 40.0\n",
            "PHONE 12.0\n",
            "CUISINE_DESCRIPTION 30.0\n",
            "INSPECTION_DATE 10\n",
            "ACTION 130.0\n",
            "VIOLATION_CODE 5.0\n",
            "VIOLATION_DESCRIPTION 952.0\n",
            "CRITICAL_FLAG 14\n",
            "GRADE 1.0\n",
            "GRADE_DATE 10.0\n",
            "RECORD_DATE 10\n",
            "INSPECTION_TYPE 59.0\n",
            "NTA 4.0\n"
          ]
        }
      ]
    },
    {
      "cell_type": "code",
      "source": [
        "# To avoid conflicts between people writing in the same database, we add a random suffix in the tables\n",
        "# We only create the variable once while running the notebook\n",
        "import uuid\n",
        "if \"suffix\" not in globals():\n",
        "    suffix = str(uuid.uuid4())[:8]\n",
        "print(suffix)"
      ],
      "metadata": {
        "id": "DWSlYTpc7agA",
        "colab": {
          "base_uri": "https://localhost:8080/"
        },
        "outputId": "58f0e349-d4b8-437c-ecb3-356c8ed6e454"
      },
      "execution_count": 18,
      "outputs": [
        {
          "output_type": "stream",
          "name": "stdout",
          "text": [
            "e5d7450e\n"
          ]
        }
      ]
    },
    {
      "cell_type": "code",
      "source": [
        "# Define the MySQL database that we will use to store the table\n",
        "db_name = \"public\"\n",
        "\n",
        "# The name f the table that we will use\n",
        "table_name = f\"inspections_{suffix}\"\n",
        "table_name"
      ],
      "metadata": {
        "id": "yQ76Iioe7nQw",
        "colab": {
          "base_uri": "https://localhost:8080/",
          "height": 35
        },
        "outputId": "168c5d1d-a1a5-4d73-d787-8dc565278fa1"
      },
      "execution_count": 21,
      "outputs": [
        {
          "output_type": "execute_result",
          "data": {
            "text/plain": [
              "'inspections_e5d7450e'"
            ],
            "application/vnd.google.colaboratory.intrinsic+json": {
              "type": "string"
            }
          },
          "metadata": {},
          "execution_count": 21
        }
      ]
    },
    {
      "cell_type": "code",
      "execution_count": 25,
      "metadata": {
        "id": "PFDaggHLkIn2"
      },
      "outputs": [],
      "source": [
        "#creates the tables with the datatypes/variables etc\n",
        "drop_table_sql = f'''\n",
        "DROP TABLE IF EXISTS {db_name}.{table_name};\n",
        "'''\n",
        "\n",
        "with engine.connect() as con:\n",
        "    con.execute(text(drop_table_sql))\n",
        "\n",
        "\n",
        "create_table_sql = f'''\n",
        "CREATE TABLE IF NOT EXISTS {db_name}.{table_name} (\n",
        "    CAMIS CHAR(8),\n",
        "    DBA VARCHAR(100),\n",
        "    BUILDING VARCHAR(10),\n",
        "    STREET VARCHAR(40),\n",
        "    ZIPCODE CHAR(5),\n",
        "    BORO VARCHAR(15),\n",
        "    PHONE CHAR(12),\n",
        "    CUISINE_DESCRIPTION VARCHAR(30),\n",
        "    LATITUDE FLOAT,\n",
        "    LONGITUDE FLOAT,\n",
        "    COMMUNITY_BOARD CHAR(3),\n",
        "    COUNCIL_DISTRICT CHAR(2),\n",
        "    CENSUS_TRACT CHAR(6),\n",
        "    BIN CHAR(7),\n",
        "    BBL CHAR(10),\n",
        "    NTA CHAR(4),\n",
        "    INSPECTION_DATE DATETIME,\n",
        "    ACTION VARCHAR(130),\n",
        "    GRADE CHAR(1),\n",
        "    INSPECTION_TYPE VARCHAR(60),\n",
        "    VIOLATION_CODE VARCHAR(10),\n",
        "    VIOLATION_DESCRIPTION VARCHAR(1000),\n",
        "    CRITICAL_FLAG VARCHAR(15),\n",
        "    SCORE SMALLINT\n",
        ")  ENGINE=INNODB DEFAULT CHARSET=UTF8MB4;\n",
        "'''\n",
        "\n",
        "with engine.connect() as con:\n",
        "    con.execute(text(create_table_sql))\n",
        "\n"
      ]
    },
    {
      "cell_type": "markdown",
      "source": [
        "## Insert data to DB using the `to_sql` command"
      ],
      "metadata": {
        "id": "K3TNb60isD1O"
      }
    },
    {
      "cell_type": "code",
      "source": [
        "# Store the dataframe as a SQL table, using the to_sql command\n",
        "df.to_sql(name=table_name, # name of the table &data frame assigned as df\n",
        "                   con=engine, # use the connection to MySQL created earlier\n",
        "                   if_exists='append', # we created the empty table above\n",
        "                   index=False, # do not write the index column in the database\n",
        "                   chunksize=1000 # write 1000 lines at a time\n",
        ")\n",
        "#Returns the number of rows = 232943"
      ],
      "metadata": {
        "id": "wUsiP9Gto9qK",
        "colab": {
          "base_uri": "https://localhost:8080/"
        },
        "outputId": "ec0eb66a-f4eb-4f89-a552-91b397df3ac8"
      },
      "execution_count": 28,
      "outputs": [
        {
          "output_type": "execute_result",
          "data": {
            "text/plain": [
              "232943"
            ]
          },
          "metadata": {},
          "execution_count": 28
        }
      ]
    },
    {
      "cell_type": "code",
      "execution_count": null,
      "metadata": {
        "id": "v1tX_xYUkIn8"
      },
      "outputs": [],
      "source": [
        "# And then we can just retrieve it from the database\n",
        "with engine.connect() as connection:\n",
        "  r = pd.read_sql(text(f\"SELECT * FROM public.{table_name} LIMIT 100\"), con=connection)\n",
        "r.head(100)"
      ]
    }
  ],
  "metadata": {
    "kernelspec": {
      "display_name": "Python 3",
      "language": "python",
      "name": "python3"
    },
    "language_info": {
      "codemirror_mode": {
        "name": "ipython",
        "version": 3
      },
      "file_extension": ".py",
      "mimetype": "text/x-python",
      "name": "python",
      "nbconvert_exporter": "python",
      "pygments_lexer": "ipython3",
      "version": "3.6.7"
    },
    "colab": {
      "provenance": [],
      "include_colab_link": true
    }
  },
  "nbformat": 4,
  "nbformat_minor": 0
}